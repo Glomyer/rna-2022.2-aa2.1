{
 "cells": [
  {
   "cell_type": "code",
   "execution_count": 1,
   "metadata": {},
   "outputs": [],
   "source": [
    "import numpy as np\n",
    "import matplotlib.pyplot as plt\n",
    "import random"
   ]
  },
  {
   "cell_type": "code",
   "execution_count": 49,
   "metadata": {},
   "outputs": [],
   "source": [
    "def step(u):\n",
    "  if (u >= 0):\n",
    "    return (1.0)\n",
    "  else:\n",
    "    return (0.0)\n",
    "\n",
    "def getNextWeightVector(previousWeightVector, error, inputAttributesVector):\n",
    "  # Delta Rule\n",
    "  learningRate = 0.1\n",
    "  return (previousWeightVector + learningRate * error * inputAttributesVector)\n",
    "\n",
    "def getWeightedSum(inputAttributesVector, weightsVector):\n",
    "  multiplicationOfVectors = inputAttributesVector * weightsVector\n",
    "  return (multiplicationOfVectors.sum())\n",
    "\n",
    "def getError(realOutput, outputDeducted):\n",
    "  return (realOutput - outputDeducted)\n",
    "\n",
    "def checkArrayEquality(array1, array2):\n",
    "  return (array1 == array2)\n",
    "\n",
    "def getWeightsVector():\n",
    "  weightsVector = np.array([])\n",
    "  for i in range(3):\n",
    "    randomNumber = random.uniform(-0.5, 0.5)\n",
    "    weightsVector = np.append(weightsVector, randomNumber)\n",
    "  return (weightsVector)\n",
    "\n",
    "def getOutputVector(data):\n",
    "  outputVector = np.array([])\n",
    "  for e in data:\n",
    "    outputVector = np.append(outputVector, e[2])\n",
    "  return outputVector\n",
    "\n",
    "def addBiasToInputVector(inputVector):\n",
    "  return np.insert(inputVector, 0, -1.0)\n",
    "\n",
    "def getInputVectorGroup(data):\n",
    "  inputVectorGroup = np.array([])\n",
    "  for e in data:\n",
    "    inputVector = e[:2]\n",
    "    inputVectorWithBias = addBiasToInputVector(inputVector)\n",
    "    inputVectorGroup = np.append(inputVectorGroup, inputVectorWithBias)\n",
    "  return inputVectorGroup.reshape((1000, 3))\n",
    "\n",
    "def teachPerceptron():\n",
    "  return"
   ]
  },
  {
   "cell_type": "code",
   "execution_count": 50,
   "metadata": {},
   "outputs": [
    {
     "data": {
      "text/plain": [
       "array([[  -1.    , -363.7884,  244.1423],\n",
       "       [  -1.    ,  328.7572, -256.7658],\n",
       "       [  -1.    , -164.9827,  613.2164],\n",
       "       ...,\n",
       "       [  -1.    ,  872.4311,  669.1192],\n",
       "       [  -1.    ,  822.6894, -702.6489],\n",
       "       [  -1.    , -140.147 ,  734.0983]])"
      ]
     },
     "execution_count": 50,
     "metadata": {},
     "output_type": "execute_result"
    }
   ],
   "source": [
    "data = np.fromfile(\"data\\dataAll.txt\").reshape((1000, 3))\n",
    "\n",
    "weightsVector = getWeightsVector()\n",
    "\n",
    "deducedOutputVector = np.array([])\n",
    "\n",
    "outputVector = getOutputVector(data)\n",
    "\n",
    "inputVectorGroup = getInputVectorGroup(data)\n",
    "\n",
    "inputVectorGroup"
   ]
  }
 ],
 "metadata": {
  "kernelspec": {
   "display_name": "Python 3",
   "language": "python",
   "name": "python3"
  },
  "language_info": {
   "codemirror_mode": {
    "name": "ipython",
    "version": 3
   },
   "file_extension": ".py",
   "mimetype": "text/x-python",
   "name": "python",
   "nbconvert_exporter": "python",
   "pygments_lexer": "ipython3",
   "version": "3.11.1"
  },
  "orig_nbformat": 4,
  "vscode": {
   "interpreter": {
    "hash": "003314aa503586daab1881a5770778dd1d7e22fd418306dbb4bdb7ba33309604"
   }
  }
 },
 "nbformat": 4,
 "nbformat_minor": 2
}
