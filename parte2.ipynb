{
 "cells": [
  {
   "cell_type": "code",
   "execution_count": 28,
   "metadata": {},
   "outputs": [],
   "source": [
    "import os\n",
    "import numpy as np\n",
    "from itertools import product\n",
    "from Perceptron2 import Perceptron2\n",
    "from prettytable import PrettyTable"
   ]
  },
  {
   "cell_type": "code",
   "execution_count": 29,
   "metadata": {
    "scrolled": true
   },
   "outputs": [
    {
     "name": "stdout",
     "output_type": "stream",
     "text": [
      "--- Combinação: (0.4, 100) ---\n",
      "--- Combinação: (0.4, 0.5) ---\n",
      "--- Combinação: (0.1, 100) ---\n",
      "--- Combinação: (0.1, 0.5) ---\n",
      "--- Combinação: (0.01, 100) ---\n",
      "--- Combinação: (0.01, 0.5) ---\n",
      "[[211, 204, 53, 15, 230, 185, 37, 11, 57, 149], [24, 27, 55, 55, 182, 55, 59, 129, 59, 55], [227, 24, 224, 142, 229, 221, 195, 192, 117, 187], [55, 217, 13, 184, 59, 55, 181, 24, 27, 59], [237, 217, 5, 168, 87, 59, 128, 90, 375, 206], [189, 98, 216, 56, 25, 192, 128, 47, 56, 19]]\n",
      "[[21, 21, 3, 2, 21, 11, 2, 2, 3, 22], [2, 2, 4, 4, 11, 4, 3, 7, 3, 4], [20, 2, 19, 8, 23, 18, 11, 11, 5, 10], [4, 18, 2, 16, 3, 4, 23, 2, 2, 3], [25, 22, 2, 8, 6, 5, 15, 5, 36, 17], [14, 5, 22, 3, 2, 13, 6, 2, 3, 2]]\n"
     ]
    }
   ],
   "source": [
    "path = os.path.join(\"data\", \"dataAll.txt\")\n",
    "data = np.fromfile(path).reshape(1000, 3)\n",
    "learningRateArray = [0.4, 0.1, 0.01]\n",
    "boundsArray = [100, 0.5]\n",
    "productArray = list(product(learningRateArray, boundsArray))\n",
    "\n",
    "verbose = False\n",
    "numberOfFitsMatrix = []\n",
    "numberOfEpochsMatrix = []\n",
    "for item in productArray:\n",
    "    learningRate, bound = item\n",
    "    print(f\"--- Combinação: ({learningRate}, {bound}) ---\")\n",
    "    neuronNumberOfFits = []\n",
    "    neuronNumberOfEpochs = []\n",
    "    for j in range(10):\n",
    "        if (verbose): print(f\"Perceptron {j}\")\n",
    "        neuron = Perceptron2(data, len(data), learningRate, bound)\n",
    "        neuron.teachPerceptron(verbose = verbose)\n",
    "        neuronNumberOfFits.append(neuron.numberOfFitsInTheWeightVector)\n",
    "        neuronNumberOfEpochs.append(neuron.epoch)\n",
    "    numberOfFitsMatrix.append(neuronNumberOfFits)\n",
    "    numberOfEpochsMatrix.append(neuronNumberOfEpochs)\n",
    "print(numberOfFitsMatrix)\n",
    "print(numberOfEpochsMatrix)"
   ]
  },
  {
   "cell_type": "code",
   "execution_count": 30,
   "metadata": {},
   "outputs": [
    {
     "name": "stdout",
     "output_type": "stream",
     "text": [
      "+---------------------+--------------------+-----------------------+------------------------------------------+\n",
      "| Taxa de aprendizado | Intervalo de Pesos | Quantidade de Ajustes | Menor número de épocas para convergência |\n",
      "+---------------------+--------------------+-----------------------+------------------------------------------+\n",
      "|         0.4         |    (-100, +100)    |     115.2 ± 83.98     |                    2                     |\n",
      "|         0.4         |    (-0.5, +0.5)    |      70.0 ± 45.97     |                    2                     |\n",
      "|         0.1         |    (-100, +100)    |     175.8 ± 61.82     |                    2                     |\n",
      "|         0.1         |    (-0.5, +0.5)    |      87.4 ± 71.98     |                    2                     |\n",
      "|         0.01        |    (-100, +100)    |     157.2 ± 101.48    |                    2                     |\n",
      "|         0.01        |    (-0.5, +0.5)    |     102.6 ± 70.31     |                    2                     |\n",
      "+---------------------+--------------------+-----------------------+------------------------------------------+\n"
     ]
    }
   ],
   "source": [
    "x = PrettyTable()\n",
    "x.field_names = [\"Taxa de aprendizado\", \"Intervalo de Pesos\", \"Quantidade de Ajustes\", \"Menor número de épocas para convergência\"]\n",
    "for i, item in enumerate(productArray):\n",
    "    learningRate, bound = item\n",
    "    numberOfFitsArray = numberOfFitsMatrix[i]\n",
    "    numberOfEpochsArray = numberOfEpochsMatrix[i]\n",
    "    mean, std = np.mean(numberOfFitsArray), np.std(numberOfFitsArray)\n",
    "    min_epoch = np.min(numberOfEpochsArray)\n",
    "    x.add_row([learningRate, f\"(-{bound}, +{bound})\", f\"{mean} ± {np.round(std, 2)}\", min_epoch])\n",
    "print(x)"
   ]
  }
 ],
 "metadata": {
  "kernelspec": {
   "display_name": "Python 3 (ipykernel)",
   "language": "python",
   "name": "python3"
  },
  "language_info": {
   "codemirror_mode": {
    "name": "ipython",
    "version": 3
   },
   "file_extension": ".py",
   "mimetype": "text/x-python",
   "name": "python",
   "nbconvert_exporter": "python",
   "pygments_lexer": "ipython3",
   "version": "3.9.13"
  },
  "vscode": {
   "interpreter": {
    "hash": "c261aea317cc0286b3b3261fbba9abdec21eaa57589985bb7a274bf54d6cc0a7"
   }
  }
 },
 "nbformat": 4,
 "nbformat_minor": 2
}
