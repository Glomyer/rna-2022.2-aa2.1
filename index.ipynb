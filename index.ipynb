{
 "cells": [
  {
   "cell_type": "code",
   "execution_count": 4,
   "metadata": {},
   "outputs": [],
   "source": [
    "import numpy as np\n",
    "import matplotlib.pyplot as plt\n",
    "import random"
   ]
  },
  {
   "cell_type": "code",
   "execution_count": 18,
   "metadata": {},
   "outputs": [],
   "source": [
    "def step(u):\n",
    "  if (u >= 0):\n",
    "    return 1\n",
    "  else:\n",
    "    return 0\n",
    "\n",
    "def getNextWeight(previousWeight, error, inputAttributesVector):\n",
    "  # Delta Rule\n",
    "  learningRate = 0.1\n",
    "  return (previousWeight + learningRate * error * inputAttributesVector)\n",
    "\n"
   ]
  },
  {
   "cell_type": "code",
   "execution_count": 29,
   "metadata": {},
   "outputs": [
    {
     "name": "stdout",
     "output_type": "stream",
     "text": [
      "-0.4499410624969067\n",
      "0.17907361005409828\n",
      "-0.4985839387507147\n"
     ]
    }
   ],
   "source": [
    "data = np.fromfile(\"data\\dataAll.txt\").reshape((1000, 3))\n",
    "\n",
    "weightsVector = np.array([])\n",
    "for i in range(3):\n",
    "  randomNumber = random.uniform(-0.5, 0.5)\n",
    "  weightsVector \n",
    "\n"
   ]
  },
  {
   "cell_type": "code",
   "execution_count": 16,
   "metadata": {},
   "outputs": [
    {
     "data": {
      "text/plain": [
       "-0.254360832790562"
      ]
     },
     "execution_count": 16,
     "metadata": {},
     "output_type": "execute_result"
    }
   ],
   "source": [
    "random.uniform(-0.5, 0.5)"
   ]
  }
 ],
 "metadata": {
  "kernelspec": {
   "display_name": "Python 3",
   "language": "python",
   "name": "python3"
  },
  "language_info": {
   "codemirror_mode": {
    "name": "ipython",
    "version": 3
   },
   "file_extension": ".py",
   "mimetype": "text/x-python",
   "name": "python",
   "nbconvert_exporter": "python",
   "pygments_lexer": "ipython3",
   "version": "3.11.1"
  },
  "orig_nbformat": 4,
  "vscode": {
   "interpreter": {
    "hash": "003314aa503586daab1881a5770778dd1d7e22fd418306dbb4bdb7ba33309604"
   }
  }
 },
 "nbformat": 4,
 "nbformat_minor": 2
}
