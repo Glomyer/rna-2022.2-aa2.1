{
 "cells": [
  {
   "cell_type": "code",
   "execution_count": 6,
   "metadata": {},
   "outputs": [],
   "source": [
    "import os\n",
    "import numpy as np\n",
    "from itertools import product\n",
    "from Perceptron2 import Perceptron2"
   ]
  },
  {
   "cell_type": "code",
   "execution_count": 5,
   "metadata": {
    "scrolled": true
   },
   "outputs": [
    {
     "name": "stdout",
     "output_type": "stream",
     "text": [
      "--- Combinação: (0.4, 100) ---\n",
      "--- Combinação: (0.4, 0.5) ---\n",
      "--- Combinação: (0.1, 100) ---\n",
      "--- Combinação: (0.1, 0.5) ---\n",
      "--- Combinação: (0.01, 100) ---\n",
      "--- Combinação: (0.01, 0.5) ---\n",
      "[[51, 27, 61, 33, 209, 58, 62, 141, 217, 166], [24, 129, 59, 27, 12, 12, 24, 55, 20, 55], [176, 45, 45, 143, 61, 43, 181, 158, 231, 60], [55, 55, 198, 55, 24, 129, 55, 59, 24, 55], [207, 638, 241, 186, 572, 2, 320, 217, 360, 178], [25, 185, 62, 56, 198, 56, 12, 40, 40, 207]]\n"
     ]
    }
   ],
   "source": [
    "path = os.path.join(\"data\", \"dataAll.txt\")\n",
    "data = np.fromfile(path).reshape(1000, 3)\n",
    "learningRateArray = [0.4, 0.1, 0.01]\n",
    "boundsArray = [100, 0.5]\n",
    "productArray = list(product(learningRateArray, boundsArray))\n",
    "\n",
    "verbose = False\n",
    "numberOfFitsMatrix = []\n",
    "for item in productArray:\n",
    "    learningRate, bound = item\n",
    "    print(f\"--- Combinação: ({learningRate}, {bound}) ---\")\n",
    "    neuronNumberOfFits = []\n",
    "    for j in range(10):\n",
    "        if (verbose): print(f\"Perceptron {j}\")\n",
    "        neuron = Perceptron2(data, len(data), learningRate, bound)\n",
    "        neuron.teachPerceptron(verbose = verbose)\n",
    "        neuronNumberOfFits.append(neuron.numberOfFitsInTheWeightVector)\n",
    "    numberOfFitsMatrix.append(neuronNumberOfFits)\n",
    "print(numberOfFitsMatrix)"
   ]
  }
 ],
 "metadata": {
  "kernelspec": {
   "display_name": "Python 3 (ipykernel)",
   "language": "python",
   "name": "python3"
  },
  "language_info": {
   "codemirror_mode": {
    "name": "ipython",
    "version": 3
   },
   "file_extension": ".py",
   "mimetype": "text/x-python",
   "name": "python",
   "nbconvert_exporter": "python",
   "pygments_lexer": "ipython3",
   "version": "3.9.13"
  },
  "vscode": {
   "interpreter": {
    "hash": "c261aea317cc0286b3b3261fbba9abdec21eaa57589985bb7a274bf54d6cc0a7"
   }
  }
 },
 "nbformat": 4,
 "nbformat_minor": 2
}
